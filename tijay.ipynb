{
 "cells": [
  {
   "cell_type": "markdown",
   "metadata": {},
   "source": [
    "# Tijay's Python Bootcamp"
   ]
  },
  {
   "cell_type": "code",
   "execution_count": 1,
   "metadata": {},
   "outputs": [],
   "source": [
    "# We'll use this code block for imports\n",
    "import csv\n",
    "import numpy as np\n",
    "import pandas as pd\n",
    "import matplotlib.pyplot as plt"
   ]
  },
  {
   "cell_type": "markdown",
   "metadata": {},
   "source": [
    "## Basic File read/write"
   ]
  },
  {
   "cell_type": "code",
   "execution_count": 7,
   "metadata": {
    "tags": []
   },
   "outputs": [
    {
     "output_type": "stream",
     "name": "stdout",
     "text": "This is a demo text file.\n\nI am the second line.\n\nThis is not the second line.\n\nHere is another line.\n\nOk, we're at the end of the file now.\n"
    }
   ],
   "source": [
    "# Python textbook read file & print each line\n",
    "f = open(\"test.txt\", \"r\")  # /Users/tijay/Documents/test.txt or whatever\n",
    "for line in f:\n",
    "    print(line)\n",
    "f.close()"
   ]
  },
  {
   "cell_type": "code",
   "execution_count": 9,
   "metadata": {
    "tags": []
   },
   "outputs": [
    {
     "output_type": "stream",
     "name": "stdout",
     "text": "This is a demo text file.\n\nI am the second line.\n\nThis is not the second line.\n\nHere is another line.\n\nOk, we're at the end of the file now.\n"
    }
   ],
   "source": [
    "# This is the recommended way\n",
    "with open(\"test.txt\", \"r\") as f:\n",
    "    for line in f:\n",
    "        print(line)"
   ]
  },
  {
   "cell_type": "code",
   "execution_count": 10,
   "metadata": {},
   "outputs": [],
   "source": [
    "# This is how you create a file and write to it immediately.\n",
    "with open(\"new.txt\", \"w\") as f:\n",
    "    f.write(\"This is an example of a new file.\")"
   ]
  },
  {
   "cell_type": "code",
   "execution_count": 14,
   "metadata": {
    "tags": []
   },
   "outputs": [
    {
     "output_type": "stream",
     "name": "stdout",
     "text": "File new2.txt created.\n"
    }
   ],
   "source": [
    "# Create only, no write\n",
    "try:\n",
    "    with open(\"new2.txt\", \"x\") as f:\n",
    "        print(\"File {} created.\".format(f.name))\n",
    "except FileExistsError:\n",
    "    print(\"File not created. Already exists.\")"
   ]
  },
  {
   "cell_type": "code",
   "execution_count": 17,
   "metadata": {
    "tags": []
   },
   "outputs": [
    {
     "output_type": "stream",
     "name": "stdout",
     "text": "Column names are: cdatetime, address, district, beat, grid, crimedescr, ucr_ncic_code, latitude, longitude\n"
    }
   ],
   "source": [
    "with open(\"crime.csv\") as cf:\n",
    "    reader = csv.reader(cf, delimiter=',')\n",
    "    i = 0\n",
    "    for row in reader:\n",
    "        if i == 0:\n",
    "            print(f'Column names are: {\", \".join(row)}')\n",
    "            # print(\"Column names are: {}\".format(\", \".join(row)))\n",
    "            i += 1\n",
    "        else:\n",
    "            break"
   ]
  }
 ],
 "metadata": {
  "language_info": {
   "codemirror_mode": {
    "name": "ipython",
    "version": 3
   },
   "file_extension": ".py",
   "mimetype": "text/x-python",
   "name": "python",
   "nbconvert_exporter": "python",
   "pygments_lexer": "ipython3",
   "version": "3.7.6-final"
  },
  "orig_nbformat": 2,
  "kernelspec": {
   "name": "python3",
   "display_name": "Python 3"
  }
 },
 "nbformat": 4,
 "nbformat_minor": 2
}